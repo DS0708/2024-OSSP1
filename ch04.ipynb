{
  "cells": [
    {
      "cell_type": "code",
      "execution_count": null,
      "metadata": {
        "id": "Ij0hKWgtDRmI"
      },
      "outputs": [],
      "source": [
        "import numpy as np"
      ]
    },
    {
      "cell_type": "code",
      "execution_count": null,
      "metadata": {
        "id": "UbgwkMwvDVoW"
      },
      "outputs": [],
      "source": [
        "# MSE\n",
        "\n",
        "def mean_squared_error(y, t):\n",
        "  return 0.5*np.sum((y-t)**2)"
      ]
    },
    {
      "cell_type": "code",
      "execution_count": null,
      "metadata": {
        "id": "B6cpAX_0Deeb"
      },
      "outputs": [],
      "source": [
        "# CrossEntropyError\n",
        "\n",
        "def cross_entropy_error(y, t):\n",
        "  delta=1e-7\n",
        "  return -np.sum(t*np.log(y+delta))"
      ]
    },
    {
      "cell_type": "code",
      "execution_count": null,
      "metadata": {
        "id": "_tvk8cDXDkIc"
      },
      "outputs": [],
      "source": [
        "# CEE for Batch\n",
        "def cross_entropy_error_batch(y, t):\n",
        "  if y.ndim==1:\n",
        "    t = t.reshape(1, t.size)\n",
        "    y = y.reshape(1, y.size)\n",
        "  \n",
        "  batch_size=y.shape[0]\n",
        "  delta = 1e-7\n",
        "  return -np.sum(t * np.log(y+delta)) / batch_size"
      ]
    },
    {
      "cell_type": "code",
      "execution_count": null,
      "metadata": {
        "id": "OC7M6SEEEDyc"
      },
      "outputs": [],
      "source": [
        "# 수치 미분\n",
        "\n",
        "def numerical_diff(f, x):\n",
        "  h = 1e-4\n",
        "  return (f(x+h) - f(x-h)) / (2*h)"
      ]
    },
    {
      "cell_type": "code",
      "execution_count": null,
      "metadata": {
        "id": "-4hGAJ51Fzq4"
      },
      "outputs": [],
      "source": [
        "# 편미분과 기울기\n",
        "\n",
        "def numerical_gradient(f, x):\n",
        "  h = 1e-4\n",
        "  grad = np.zeros_like(x)\n",
        "\n",
        "  for idx in range(x.size):\n",
        "    print(x.size)\n",
        "    print(x)\n",
        "    print(idx)\n",
        "    print(x[idx])\n",
        "    tmp_val = x[idx]\n",
        "\n",
        "    '''\n",
        "    # f(x+h)\n",
        "\n",
        "    # f(x-h)\n",
        "    \n",
        "    '''\n",
        "\n",
        "  return grad"
      ]
    },
    {
      "cell_type": "code",
      "execution_count": null,
      "metadata": {
        "id": "kvWK6uk7ELqT"
      },
      "outputs": [],
      "source": [
        "# GD\n",
        "\n",
        "def gradient_descent(f, init_x, lr=0.01, step_num=100):\n",
        "  x = init_x\n",
        "  for i in range(step_num):\n",
        "    grad = numerical_gradient(f, x)\n",
        "    x -= lr*grad\n",
        "  return x"
      ]
    },
    {
      "cell_type": "code",
      "execution_count": null,
      "metadata": {
        "id": "c7gRE8_2EaiD"
      },
      "outputs": [],
      "source": [
        "def function(x):\n",
        "  return x[0]**2 + x[1]**2\n",
        "\n",
        "init_x = np.array([-3.0, 4.0])\n",
        "gradient_descent(function, init_x=init_x, lr=0.1, step_num=100)"
      ]
    },
    {
      "cell_type": "code",
      "execution_count": null,
      "metadata": {
        "id": "MkM49djPFU1Z"
      },
      "outputs": [],
      "source": [
        "class simpleNet:\n",
        "  def __init__(self):\n",
        "    self.W = np.random.randn(2, 3)\n",
        "\n",
        "  def predict(self, x):\n",
        "    return x @ self.W\n",
        "\n",
        "  def softmax(self, x):\n",
        "    c = np.max(x)\n",
        "    exp_x = np.exp(x - c)\n",
        "    sum_exp_x = np.sum(exp_x)\n",
        "    return exp_x / sum_exp_x\n",
        "\n",
        "  def loss(self, x, t):\n",
        "    z = self.predict(x)\n",
        "    y = self.softmax(z)\n",
        "    loss = cross_entropy_error(y, t)\n",
        "    return loss"
      ]
    },
    {
      "cell_type": "code",
      "execution_count": null,
      "metadata": {
        "colab": {
          "base_uri": "https://localhost:8080/"
        },
        "id": "DqfWJvbuHMWn",
        "outputId": "6e6d552c-8bad-4bd9-a017-42030e963204"
      },
      "outputs": [
        {
          "output_type": "execute_result",
          "data": {
            "text/plain": [
              "array([[-1.83719583, -0.16515208,  1.7535606 ],\n",
              "       [ 1.26246935, -1.53427656,  0.38942022]])"
            ]
          },
          "metadata": {},
          "execution_count": 10
        }
      ],
      "source": [
        "net = simpleNet()\n",
        "net.W"
      ]
    },
    {
      "cell_type": "code",
      "execution_count": null,
      "metadata": {
        "colab": {
          "base_uri": "https://localhost:8080/"
        },
        "id": "o1LjOpurHOgG",
        "outputId": "1c409733-f424-432e-a48f-83b3d15a481c"
      },
      "outputs": [
        {
          "output_type": "execute_result",
          "data": {
            "text/plain": [
              "array([ 0.03390491, -1.47994015,  1.40261456])"
            ]
          },
          "metadata": {},
          "execution_count": 11
        }
      ],
      "source": [
        "x = np.array([0.6, 0.9])\n",
        "p = net.predict(x)\n",
        "p"
      ]
    },
    {
      "cell_type": "code",
      "execution_count": null,
      "metadata": {
        "colab": {
          "base_uri": "https://localhost:8080/"
        },
        "id": "M1cax019HVEg",
        "outputId": "a6000724-e8ff-4c5f-f05f-63e111732e20"
      },
      "outputs": [
        {
          "output_type": "execute_result",
          "data": {
            "text/plain": [
              "2"
            ]
          },
          "metadata": {},
          "execution_count": 12
        }
      ],
      "source": [
        "np.argmax(p)"
      ]
    },
    {
      "cell_type": "code",
      "execution_count": null,
      "metadata": {
        "colab": {
          "base_uri": "https://localhost:8080/"
        },
        "id": "0W1xDP2xHdfC",
        "outputId": "40d09408-6316-4c0d-9e6a-503e11305818"
      },
      "outputs": [
        {
          "output_type": "execute_result",
          "data": {
            "text/plain": [
              "0.270352598868895"
            ]
          },
          "metadata": {},
          "execution_count": 13
        }
      ],
      "source": [
        "t = np.array([0, 0, 1])\n",
        "net.loss(x, t)"
      ]
    },
    {
      "cell_type": "code",
      "execution_count": null,
      "metadata": {
        "id": "f78HDNR8JmBp"
      },
      "outputs": [],
      "source": [
        "def numerical_gradient(f, x):\n",
        "  h = 1e-4  # 0.0001\n",
        "  grad = np.zeros_like(x)\n",
        "\n",
        "  it = np.nditer(x, flags=['multi_index'], op_flags=['readwrite']) # 배열 반복\n",
        "  while not it.finished:\n",
        "    print(it.multi_index) # 출력 확인\n",
        "    idx = it.multi_index\n",
        "\n",
        "    '''\n",
        "    \n",
        "\n",
        "    '''\n",
        "    it.iternext()\n",
        "\n",
        "  return grad"
      ]
    },
    {
      "cell_type": "code",
      "execution_count": null,
      "metadata": {
        "colab": {
          "base_uri": "https://localhost:8080/"
        },
        "id": "h9Uyv6LcHhh2",
        "outputId": "2a5df7e3-5404-4d6f-c8c4-d988dbc2c24f"
      },
      "outputs": [
        {
          "output_type": "stream",
          "name": "stdout",
          "text": [
            "(0, 0)\n",
            "(0, 1)\n",
            "(0, 2)\n",
            "(1, 0)\n",
            "(1, 1)\n",
            "(1, 2)\n"
          ]
        },
        {
          "output_type": "execute_result",
          "data": {
            "text/plain": [
              "array([[ 0.11649719,  0.02563663, -0.14213382],\n",
              "       [ 0.17474578,  0.03845494, -0.21320072]])"
            ]
          },
          "metadata": {},
          "execution_count": 15
        }
      ],
      "source": [
        "f = lambda w:net.loss(x, t)\n",
        "dW = numerical_gradient(f, net.W)\n",
        "dW"
      ]
    },
    {
      "cell_type": "code",
      "execution_count": null,
      "metadata": {
        "colab": {
          "base_uri": "https://localhost:8080/"
        },
        "id": "B46ImsRSHqPp",
        "outputId": "b156e06d-5fc8-4cdf-ddcd-14e1222fb032"
      },
      "outputs": [
        {
          "output_type": "stream",
          "name": "stdout",
          "text": [
            "(0, 0)\n",
            "(0, 1)\n",
            "(0, 2)\n",
            "(1, 0)\n",
            "(1, 1)\n",
            "(1, 2)\n"
          ]
        },
        {
          "output_type": "execute_result",
          "data": {
            "text/plain": [
              "array([[ 0.11649719,  0.02563663, -0.14213382],\n",
              "       [ 0.17474578,  0.03845494, -0.21320072]])"
            ]
          },
          "metadata": {},
          "execution_count": 16
        }
      ],
      "source": [
        "def f(W):\n",
        "  return net.loss(x, t)\n",
        "dW = numerical_gradient(f, net.W)\n",
        "dW"
      ]
    },
    {
      "cell_type": "code",
      "execution_count": null,
      "metadata": {
        "id": "339w_NaEH83R"
      },
      "outputs": [],
      "source": [
        "class TwoLayerNet:\n",
        "  # 초기화를 수행한다.\n",
        "  def __init__(self, input_size, hidden_size, output_size, weight_init_std=0.01):\n",
        "    # 가중치 초기화\n",
        "    self.params = {}\n",
        "    self.params['W1'] = weight_init_std * np.random.randn(input_size, hidden_size)\n",
        "    self.params['b1'] = np.zeros(hidden_size)\n",
        "    self.params['W2'] = weight_init_std * np.random.randn(hidden_size, output_size)\n",
        "    self.params['b2'] = np.zeros(output_size)\n",
        "\n",
        "  def sigmoid(self, x):\n",
        "    return 1 / (1 + np.exp(-x))\n",
        "\n",
        "  def softmax(self, x):\n",
        "    c = np.max(x)\n",
        "    exp_x = np.exp(x - c)\n",
        "    sum_exp_x = np.sum(exp_x)\n",
        "    return exp_x / sum_exp_x\n",
        "\n",
        "  # 예측(추론)을 수행한다.\n",
        "  def predict(self, x):\n",
        "    W1, W2 = self.params['W1'], self.params['W2']\n",
        "    b1, b2 = self.params['b1'], self.params['b2']\n",
        "\n",
        "    a1 = np.dot(x, W1) + b1\n",
        "    z1 = self.sigmoid(a1)\n",
        "    a2 = np.dot(z1, W2) + b2\n",
        "    y = self.softmax(a2)\n",
        "\n",
        "    return y\n",
        "\n",
        "  def cross_entropy_error(self, y, t):\n",
        "      if y.ndim == 1:\n",
        "          t = t.reshape(1, t.size)\n",
        "          y = y.reshape(1, y.size)\n",
        "          \n",
        "      # 훈련 데이터가 원-핫 벡터라면 정답 레이블의 인덱스로 반환\n",
        "      if t.size == y.size:\n",
        "          t = t.argmax(axis=1)\n",
        "              \n",
        "      batch_size = y.shape[0]\n",
        "      return -np.sum(np.log(y[np.arange(batch_size), t])) / batch_size\n",
        "\n",
        "  # 손실 함수의 값을 구한다.\n",
        "  # x : 입력데이터, t : 정답 레이블\n",
        "  def loss(self, x, t):\n",
        "    y = self.predict(x)\n",
        "\n",
        "    return self.cross_entropy_error(y, t)\n",
        "\n",
        "  # 정확도를 구한다.\n",
        "  def accuracy(self, x, t):\n",
        "    y = self.predict(x)\n",
        "    y = np.argmax(y, axis=1)\n",
        "    t = np.argmax(t, axis=1)\n",
        "\n",
        "    accuracy = np.sum(y == t) / float(x.shape[0])\n",
        "    return accuracy\n",
        "\n",
        "  def numerical_gradient(self, f, x):\n",
        "    h = 1e-4  # 0.0001\n",
        "    grad = np.zeros_like(x)\n",
        "\n",
        "    it = np.nditer(x, flags=['multi_index'], op_flags=['readwrite'])\n",
        "    while not it.finished:\n",
        "      idx = it.multi_index\n",
        "\n",
        "      '''\n",
        "      \n",
        "      '''\n",
        "\n",
        "      it.iternext()\n",
        "\n",
        "    return grad\n",
        "\n",
        "  # 가중치 매개변수의 기울기를 구한다.\n",
        "  def numerical_gradient_all(self, x, t):\n",
        "    loss_W = lambda W: self.loss(x, t)\n",
        "\n",
        "    grads = {}\n",
        "    grads['W1'] = self.numerical_gradient(loss_W, self.params['W1'])\n",
        "    grads['b1'] = self.numerical_gradient(loss_W, self.params['b1'])\n",
        "    grads['W2'] = self.numerical_gradient(loss_W, self.params['W2'])\n",
        "    grads['b2'] = self.numerical_gradient(loss_W, self.params['b2'])\n",
        "\n",
        "    return grads"
      ]
    },
    {
      "cell_type": "code",
      "execution_count": null,
      "metadata": {
        "id": "g2dWMTJ6LBUQ"
      },
      "outputs": [],
      "source": [
        "net = TwoLayerNet(input_size=784, hidden_size=100, output_size=10)\n",
        "print(net.params['W1'].shape)  # (784, 100)\n",
        "print(net.params['b1'].shape)  # (100,)\n",
        "print(net.params['W2'].shape)  # (100, 10)\n",
        "print(net.params['b2'].shape)  # (10,)\n",
        "\n",
        "x = np.random.rand(100, 784)  # 더미 입력 데이터(100장 분량)\n",
        "t = np.random.rand(100, 10)   # 더미 정답 레이블(100장 분량)\n",
        "\n",
        "%time grads = net.numerical_gradient_all(x, t)  # 기울기 계산\n",
        "# 주의 : 실행하는데 아주 오래걸림\n",
        "print(grads['W1'].shape)  # (784, 100)\n",
        "print(grads['b1'].shape)  # (100,)\n",
        "print(grads['W2'].shape)  # (100, 10)\n",
        "print(grads['b2'].shape)  # (10,)"
      ]
    },
    {
      "cell_type": "code",
      "execution_count": null,
      "metadata": {
        "id": "lcGTbSbVMGRC",
        "colab": {
          "base_uri": "https://localhost:8080/"
        },
        "outputId": "ed9f4da3-e9de-430b-9c58-a3b8a63258ac"
      },
      "outputs": [
        {
          "output_type": "stream",
          "name": "stdout",
          "text": [
            "Archive:  /content/dataset03.zip\n",
            "replace dataset/__init__.py? [y]es, [n]o, [A]ll, [N]one, [r]ename: yA\n",
            "  inflating: dataset/__init__.py     \n",
            "replace dataset/__pycache__/__init__.cpython-37.pyc? [y]es, [n]o, [A]ll, [N]one, [r]ename: A\n",
            "  inflating: dataset/__pycache__/__init__.cpython-37.pyc  \n",
            "  inflating: dataset/__pycache__/mnist.cpython-37.pyc  \n",
            "  inflating: dataset/cactus.png      \n",
            "  inflating: dataset/cactus_gray.png  \n",
            "  inflating: dataset/mnist.pkl       \n",
            "  inflating: dataset/mnist.py        \n",
            "  inflating: dataset/t10k-images-idx3-ubyte.gz  \n",
            "  inflating: dataset/t10k-labels-idx1-ubyte.gz  \n",
            "  inflating: dataset/train-images-idx3-ubyte.gz  \n",
            "  inflating: dataset/train-labels-idx1-ubyte.gz  \n",
            "  inflating: sample_weight.pkl       \n"
          ]
        }
      ],
      "source": [
        "!unzip dataset03.zip"
      ]
    },
    {
      "cell_type": "code",
      "execution_count": null,
      "metadata": {
        "id": "kkkRsmqJMGOd"
      },
      "outputs": [],
      "source": [
        "from dataset.mnist import load_mnist\n",
        "(x_train, t_train), (x_test, t_test) = load_mnist(normalize=True, one_hot_label=True)"
      ]
    },
    {
      "cell_type": "code",
      "execution_count": null,
      "metadata": {
        "id": "xYPTsX0nLC-U"
      },
      "outputs": [],
      "source": [
        "# Hyperparameter\n",
        "iters_num = 1000  # 반복횟수\n",
        "train_size = x_train.shape[0]\n",
        "batch_size = 100  # 미니배치 크기\n",
        "learning_rate = 0.1\n",
        "network = TwoLayerNet(input_size=784, hidden_size=50, output_size=10)\n",
        "\n",
        "train_loss_list = []\n",
        "train_acc_list = []\n",
        "test_acc_list = []\n",
        "\n",
        "# 1에폭당 반복 수\n",
        "iter_per_epoch = max(train_size / batch_size, 1)"
      ]
    },
    {
      "cell_type": "code",
      "execution_count": null,
      "metadata": {
        "colab": {
          "base_uri": "https://localhost:8080/",
          "height": 84,
          "referenced_widgets": [
            "bb61fd36d200499f8f16ebe6b6686f58",
            "b3640b2e818945bd8a21877fa5921b8a",
            "69431e2be4d549a69b0c6ef046317252",
            "a09e2e766d01445688a2cecdd4855711",
            "347c8e3e4ea1482f93684a524f17ec94",
            "4770a11452da4d528d610fefc04cbc32",
            "23300ec7d54d4ef69147bece6552cfda",
            "22d4d98a43a2460fb6228074754cb697",
            "9461e5774dc441008d955ade339d389c",
            "72ffed46ca934b9dba550570b491d289",
            "92fdf9ccc6a540c99e94dd795e33c935"
          ]
        },
        "id": "vMyIQ8OpMMpe",
        "outputId": "741bd46a-1c43-4c2e-f671-bcdd3f42fc54"
      },
      "outputs": [
        {
          "output_type": "display_data",
          "data": {
            "text/plain": [
              "  0%|          | 0/1000 [00:00<?, ?it/s]"
            ],
            "application/vnd.jupyter.widget-view+json": {
              "version_major": 2,
              "version_minor": 0,
              "model_id": "bb61fd36d200499f8f16ebe6b6686f58"
            }
          },
          "metadata": {}
        },
        {
          "output_type": "stream",
          "name": "stdout",
          "text": [
            "train acc, test acc | 0.09736666666666667, 0.0982\n",
            "train acc, test acc | 0.11236666666666667, 0.1135\n"
          ]
        }
      ],
      "source": [
        "from tqdm.auto import tqdm # progress bar\n",
        "\n",
        "for i in tqdm(range(iters_num)):\n",
        "  # print(i) # Progress Bar를 사용하므로 iter를 출력할 필요 없음\n",
        "\n",
        "  # 미니배치 획득\n",
        "  batch_mask = np.random.choice(train_size, batch_size)\n",
        "  x_batch = x_train[batch_mask]\n",
        "  t_batch = t_train[batch_mask]\n",
        "\n",
        "  # 기울기 계산\n",
        "  grad = network.numerical_gradient_all(x_batch, t_batch)\n",
        "\n",
        "  # 매개변수 갱신\n",
        "  for key in ('W1', 'b1', 'W2', 'b2'): \n",
        "    network.params[key] -= learning_rate * grad[key]\n",
        "\n",
        "  # 학습 경과 기록\n",
        "  loss = network.loss(x_batch, t_batch)\n",
        "  train_loss_list.append(loss)\n",
        "\n",
        "  # 1에폭 당 정확도 계산\n",
        "  if i % iter_per_epoch == 0:\n",
        "    train_acc = network.accuracy(x_train, t_train)\n",
        "    test_acc = network.accuracy(x_test, t_test)\n",
        "    train_acc_list.append(train_acc)\n",
        "    test_acc_list.append(test_acc)\n",
        "    print(\"train acc, test acc | \"+ str(train_acc) + \", \" + str(test_acc))\n",
        "\n",
        "## 아주 오랜 시간이 걸리므로, 결과가 나올 필요 없음"
      ]
    },
    {
      "cell_type": "code",
      "execution_count": null,
      "metadata": {
        "id": "D26ORtCYMwNm"
      },
      "outputs": [],
      "source": []
    }
  ],
  "metadata": {
    "colab": {
      "provenance": []
    },
    "kernelspec": {
      "display_name": "Python 3",
      "name": "python3"
    },
    "language_info": {
      "name": "python"
    },
    "widgets": {
      "application/vnd.jupyter.widget-state+json": {
        "bb61fd36d200499f8f16ebe6b6686f58": {
          "model_module": "@jupyter-widgets/controls",
          "model_name": "HBoxModel",
          "model_module_version": "1.5.0",
          "state": {
            "_dom_classes": [],
            "_model_module": "@jupyter-widgets/controls",
            "_model_module_version": "1.5.0",
            "_model_name": "HBoxModel",
            "_view_count": null,
            "_view_module": "@jupyter-widgets/controls",
            "_view_module_version": "1.5.0",
            "_view_name": "HBoxView",
            "box_style": "",
            "children": [
              "IPY_MODEL_b3640b2e818945bd8a21877fa5921b8a",
              "IPY_MODEL_69431e2be4d549a69b0c6ef046317252",
              "IPY_MODEL_a09e2e766d01445688a2cecdd4855711"
            ],
            "layout": "IPY_MODEL_347c8e3e4ea1482f93684a524f17ec94"
          }
        },
        "b3640b2e818945bd8a21877fa5921b8a": {
          "model_module": "@jupyter-widgets/controls",
          "model_name": "HTMLModel",
          "model_module_version": "1.5.0",
          "state": {
            "_dom_classes": [],
            "_model_module": "@jupyter-widgets/controls",
            "_model_module_version": "1.5.0",
            "_model_name": "HTMLModel",
            "_view_count": null,
            "_view_module": "@jupyter-widgets/controls",
            "_view_module_version": "1.5.0",
            "_view_name": "HTMLView",
            "description": "",
            "description_tooltip": null,
            "layout": "IPY_MODEL_4770a11452da4d528d610fefc04cbc32",
            "placeholder": "​",
            "style": "IPY_MODEL_23300ec7d54d4ef69147bece6552cfda",
            "value": "100%"
          }
        },
        "69431e2be4d549a69b0c6ef046317252": {
          "model_module": "@jupyter-widgets/controls",
          "model_name": "FloatProgressModel",
          "model_module_version": "1.5.0",
          "state": {
            "_dom_classes": [],
            "_model_module": "@jupyter-widgets/controls",
            "_model_module_version": "1.5.0",
            "_model_name": "FloatProgressModel",
            "_view_count": null,
            "_view_module": "@jupyter-widgets/controls",
            "_view_module_version": "1.5.0",
            "_view_name": "ProgressView",
            "bar_style": "success",
            "description": "",
            "description_tooltip": null,
            "layout": "IPY_MODEL_22d4d98a43a2460fb6228074754cb697",
            "max": 1000,
            "min": 0,
            "orientation": "horizontal",
            "style": "IPY_MODEL_9461e5774dc441008d955ade339d389c",
            "value": 1000
          }
        },
        "a09e2e766d01445688a2cecdd4855711": {
          "model_module": "@jupyter-widgets/controls",
          "model_name": "HTMLModel",
          "model_module_version": "1.5.0",
          "state": {
            "_dom_classes": [],
            "_model_module": "@jupyter-widgets/controls",
            "_model_module_version": "1.5.0",
            "_model_name": "HTMLModel",
            "_view_count": null,
            "_view_module": "@jupyter-widgets/controls",
            "_view_module_version": "1.5.0",
            "_view_name": "HTMLView",
            "description": "",
            "description_tooltip": null,
            "layout": "IPY_MODEL_72ffed46ca934b9dba550570b491d289",
            "placeholder": "​",
            "style": "IPY_MODEL_92fdf9ccc6a540c99e94dd795e33c935",
            "value": " 1000/1000 [00:05&lt;00:00, 238.35it/s]"
          }
        },
        "347c8e3e4ea1482f93684a524f17ec94": {
          "model_module": "@jupyter-widgets/base",
          "model_name": "LayoutModel",
          "model_module_version": "1.2.0",
          "state": {
            "_model_module": "@jupyter-widgets/base",
            "_model_module_version": "1.2.0",
            "_model_name": "LayoutModel",
            "_view_count": null,
            "_view_module": "@jupyter-widgets/base",
            "_view_module_version": "1.2.0",
            "_view_name": "LayoutView",
            "align_content": null,
            "align_items": null,
            "align_self": null,
            "border": null,
            "bottom": null,
            "display": null,
            "flex": null,
            "flex_flow": null,
            "grid_area": null,
            "grid_auto_columns": null,
            "grid_auto_flow": null,
            "grid_auto_rows": null,
            "grid_column": null,
            "grid_gap": null,
            "grid_row": null,
            "grid_template_areas": null,
            "grid_template_columns": null,
            "grid_template_rows": null,
            "height": null,
            "justify_content": null,
            "justify_items": null,
            "left": null,
            "margin": null,
            "max_height": null,
            "max_width": null,
            "min_height": null,
            "min_width": null,
            "object_fit": null,
            "object_position": null,
            "order": null,
            "overflow": null,
            "overflow_x": null,
            "overflow_y": null,
            "padding": null,
            "right": null,
            "top": null,
            "visibility": null,
            "width": null
          }
        },
        "4770a11452da4d528d610fefc04cbc32": {
          "model_module": "@jupyter-widgets/base",
          "model_name": "LayoutModel",
          "model_module_version": "1.2.0",
          "state": {
            "_model_module": "@jupyter-widgets/base",
            "_model_module_version": "1.2.0",
            "_model_name": "LayoutModel",
            "_view_count": null,
            "_view_module": "@jupyter-widgets/base",
            "_view_module_version": "1.2.0",
            "_view_name": "LayoutView",
            "align_content": null,
            "align_items": null,
            "align_self": null,
            "border": null,
            "bottom": null,
            "display": null,
            "flex": null,
            "flex_flow": null,
            "grid_area": null,
            "grid_auto_columns": null,
            "grid_auto_flow": null,
            "grid_auto_rows": null,
            "grid_column": null,
            "grid_gap": null,
            "grid_row": null,
            "grid_template_areas": null,
            "grid_template_columns": null,
            "grid_template_rows": null,
            "height": null,
            "justify_content": null,
            "justify_items": null,
            "left": null,
            "margin": null,
            "max_height": null,
            "max_width": null,
            "min_height": null,
            "min_width": null,
            "object_fit": null,
            "object_position": null,
            "order": null,
            "overflow": null,
            "overflow_x": null,
            "overflow_y": null,
            "padding": null,
            "right": null,
            "top": null,
            "visibility": null,
            "width": null
          }
        },
        "23300ec7d54d4ef69147bece6552cfda": {
          "model_module": "@jupyter-widgets/controls",
          "model_name": "DescriptionStyleModel",
          "model_module_version": "1.5.0",
          "state": {
            "_model_module": "@jupyter-widgets/controls",
            "_model_module_version": "1.5.0",
            "_model_name": "DescriptionStyleModel",
            "_view_count": null,
            "_view_module": "@jupyter-widgets/base",
            "_view_module_version": "1.2.0",
            "_view_name": "StyleView",
            "description_width": ""
          }
        },
        "22d4d98a43a2460fb6228074754cb697": {
          "model_module": "@jupyter-widgets/base",
          "model_name": "LayoutModel",
          "model_module_version": "1.2.0",
          "state": {
            "_model_module": "@jupyter-widgets/base",
            "_model_module_version": "1.2.0",
            "_model_name": "LayoutModel",
            "_view_count": null,
            "_view_module": "@jupyter-widgets/base",
            "_view_module_version": "1.2.0",
            "_view_name": "LayoutView",
            "align_content": null,
            "align_items": null,
            "align_self": null,
            "border": null,
            "bottom": null,
            "display": null,
            "flex": null,
            "flex_flow": null,
            "grid_area": null,
            "grid_auto_columns": null,
            "grid_auto_flow": null,
            "grid_auto_rows": null,
            "grid_column": null,
            "grid_gap": null,
            "grid_row": null,
            "grid_template_areas": null,
            "grid_template_columns": null,
            "grid_template_rows": null,
            "height": null,
            "justify_content": null,
            "justify_items": null,
            "left": null,
            "margin": null,
            "max_height": null,
            "max_width": null,
            "min_height": null,
            "min_width": null,
            "object_fit": null,
            "object_position": null,
            "order": null,
            "overflow": null,
            "overflow_x": null,
            "overflow_y": null,
            "padding": null,
            "right": null,
            "top": null,
            "visibility": null,
            "width": null
          }
        },
        "9461e5774dc441008d955ade339d389c": {
          "model_module": "@jupyter-widgets/controls",
          "model_name": "ProgressStyleModel",
          "model_module_version": "1.5.0",
          "state": {
            "_model_module": "@jupyter-widgets/controls",
            "_model_module_version": "1.5.0",
            "_model_name": "ProgressStyleModel",
            "_view_count": null,
            "_view_module": "@jupyter-widgets/base",
            "_view_module_version": "1.2.0",
            "_view_name": "StyleView",
            "bar_color": null,
            "description_width": ""
          }
        },
        "72ffed46ca934b9dba550570b491d289": {
          "model_module": "@jupyter-widgets/base",
          "model_name": "LayoutModel",
          "model_module_version": "1.2.0",
          "state": {
            "_model_module": "@jupyter-widgets/base",
            "_model_module_version": "1.2.0",
            "_model_name": "LayoutModel",
            "_view_count": null,
            "_view_module": "@jupyter-widgets/base",
            "_view_module_version": "1.2.0",
            "_view_name": "LayoutView",
            "align_content": null,
            "align_items": null,
            "align_self": null,
            "border": null,
            "bottom": null,
            "display": null,
            "flex": null,
            "flex_flow": null,
            "grid_area": null,
            "grid_auto_columns": null,
            "grid_auto_flow": null,
            "grid_auto_rows": null,
            "grid_column": null,
            "grid_gap": null,
            "grid_row": null,
            "grid_template_areas": null,
            "grid_template_columns": null,
            "grid_template_rows": null,
            "height": null,
            "justify_content": null,
            "justify_items": null,
            "left": null,
            "margin": null,
            "max_height": null,
            "max_width": null,
            "min_height": null,
            "min_width": null,
            "object_fit": null,
            "object_position": null,
            "order": null,
            "overflow": null,
            "overflow_x": null,
            "overflow_y": null,
            "padding": null,
            "right": null,
            "top": null,
            "visibility": null,
            "width": null
          }
        },
        "92fdf9ccc6a540c99e94dd795e33c935": {
          "model_module": "@jupyter-widgets/controls",
          "model_name": "DescriptionStyleModel",
          "model_module_version": "1.5.0",
          "state": {
            "_model_module": "@jupyter-widgets/controls",
            "_model_module_version": "1.5.0",
            "_model_name": "DescriptionStyleModel",
            "_view_count": null,
            "_view_module": "@jupyter-widgets/base",
            "_view_module_version": "1.2.0",
            "_view_name": "StyleView",
            "description_width": ""
          }
        }
      }
    }
  },
  "nbformat": 4,
  "nbformat_minor": 0
}