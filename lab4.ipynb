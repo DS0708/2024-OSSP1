{
 "cells": [
  {
   "cell_type": "code",
   "execution_count": 1,
   "metadata": {},
   "outputs": [],
   "source": [
    "import torch\n",
    "import torch.nn as nn\n",
    "import torch.optim as optim\n",
    "from sklearn.datasets import (\n",
    "    make_blobs, # is used to generate isotropic Gaussian blobs for clustering\n",
    "    load_breast_cancer, # is used to load and return the breast cancer wisconsin dataset\n",
    ")\n",
    "from sklearn.preprocessing import StandardScaler # is used to standardize features by removing the mean and scaling to unit variance\n",
    "from sklearn.model_selection import train_test_split\n",
    "from sklearn.metrics import accuracy_score\n",
    "import numpy as np\n",
    "import random"
   ]
  },
  {
   "cell_type": "markdown",
   "metadata": {},
   "source": [
    "# Logistic Regression\n",
    "\n",
    "로지스틱 회귀(Logistic Regression)는 분류 문제에 사용되는 통계적인 기법.\n",
    "이 알고리즘은 주어진 입력 데이터를 기반으로 두 개 이상의 클래스 중 하나에 속할 확률을 예측하는 데 사용.\n",
    "로지스틱 회귀는 선형 회귀와는 달리 출력값을 0과 1 사이의 확률로 제한하여 이진 분류 문제에 적합합.\n",
    "\n",
    "로지스틱 회귀는 로지스틱 함수 또는 시그모이드 함수라고도 불리는 S자 모양의 곡선을 사용하여 입력 데이터와 출력값 사이의 관계를 모델링.\n",
    "이 함수는 입력값을 받아 0과 1 사이의 값을 출력.\n",
    "이를 통해 로지스틱 회귀는 입력 데이터를 시그모이드 함수를 통해 확률로 변환.\n",
    "\n",
    "로지스틱 회귀의 예시 코드:\n",
    "```python\n",
    "from sklearn.linear_model import LogisticRegression\n",
    "\n",
    "# 입력 데이터와 레이블 준비\n",
    "X = [[1, 2], [3, 4], [5, 6]]\n",
    "y = [0, 1, 0]\n",
    "\n",
    "# 로지스틱 회귀 모델 생성\n",
    "model = LogisticRegression()\n",
    "\n",
    "# 모델 훈련\n",
    "model.fit(X, y)\n",
    "\n",
    "# 새로운 데이터에 대한 예측\n",
    "new_data = [[7, 8], [9, 10]]\n",
    "predictions = model.predict(new_data)\n",
    "\n",
    "print(predictions)\n",
    "```\n",
    "이 코드에서는 scikit-learn 라이브러리의 LogisticRegression 클래스를 사용하여 로지스틱 회귀 모델을 생성하고 훈련."
   ]
  },
  {
   "cell_type": "markdown",
   "metadata": {},
   "source": [
    "## Logistic Regression with Torch"
   ]
  },
  {
   "cell_type": "code",
   "execution_count": 2,
   "metadata": {},
   "outputs": [],
   "source": [
    "# make_blobs는 등방성 가우시안 정규분포를 사용하여 가상 데이터를 생성.\n",
    "X, y = make_blobs(n_samples=1000, centers=2, random_state=42)\n",
    "X = torch.FloatTensor(X)\n",
    "y = torch.LongTensor(y)"
   ]
  },
  {
   "cell_type": "code",
   "execution_count": 3,
   "metadata": {},
   "outputs": [],
   "source": [
    "X_train, X_test, y_train, y_test = train_test_split(X, y, test_size=0.2, random_state=42)"
   ]
  },
  {
   "cell_type": "code",
   "execution_count": 4,
   "metadata": {},
   "outputs": [],
   "source": [
    "class LogisticRegression(nn.Module):\n",
    "    def __init__(self, input_size):\n",
    "        super(LogisticRegression, self).__init__()\n",
    "        self.linear = nn.Linear(input_size, 1)\n",
    "        \n",
    "    def forward(self, x):\n",
    "        out = torch.sigmoid(self.linear(x))\n",
    "        return out"
   ]
  },
  {
   "cell_type": "code",
   "execution_count": 5,
   "metadata": {},
   "outputs": [],
   "source": [
    "model = LogisticRegression(input_size=2)"
   ]
  },
  {
   "cell_type": "code",
   "execution_count": 6,
   "metadata": {},
   "outputs": [],
   "source": [
    "# define loss function and optimizer\n",
    "criterion = nn.BCELoss()\n",
    "optimizer = optim.SGD(model.parameters(), lr=0.01)"
   ]
  },
  {
   "cell_type": "code",
   "execution_count": 7,
   "metadata": {},
   "outputs": [
    {
     "name": "stdout",
     "output_type": "stream",
     "text": [
      "Epoch [10/100], Loss: 0.1690, Accuracy: 0.9900\n",
      "Epoch [20/100], Loss: 0.1347, Accuracy: 0.9938\n",
      "Epoch [30/100], Loss: 0.1124, Accuracy: 0.9962\n",
      "Epoch [40/100], Loss: 0.0969, Accuracy: 0.9975\n",
      "Epoch [50/100], Loss: 0.0855, Accuracy: 0.9975\n",
      "Epoch [60/100], Loss: 0.0767, Accuracy: 1.0000\n",
      "Epoch [70/100], Loss: 0.0698, Accuracy: 1.0000\n",
      "Epoch [80/100], Loss: 0.0641, Accuracy: 1.0000\n",
      "Epoch [90/100], Loss: 0.0594, Accuracy: 1.0000\n",
      "Epoch [100/100], Loss: 0.0554, Accuracy: 1.0000\n"
     ]
    }
   ],
   "source": [
    "# train the model\n",
    "num_epochs = 100\n",
    "for epoch in range(num_epochs):\n",
    "    optimizer.zero_grad()\n",
    "    outputs = model(X_train)\n",
    "    loss = criterion(outputs, y_train.unsqueeze(1).float())\n",
    "    loss.backward()\n",
    "    optimizer.step()\n",
    "    \n",
    "    if (epoch+1) % 10 == 0:\n",
    "        with torch.no_grad():\n",
    "            predicted = model(X_train)\n",
    "            predicted_cls = predicted.round()\n",
    "            acc = accuracy_score(y_train, predicted_cls)\n",
    "            print(f'Epoch [{epoch+1}/{num_epochs}], Loss: {loss.item():.4f}, Accuracy: {acc:.4f}')"
   ]
  },
  {
   "cell_type": "code",
   "execution_count": 8,
   "metadata": {},
   "outputs": [
    {
     "name": "stdout",
     "output_type": "stream",
     "text": [
      "Test Accuracy: 1.0000\n"
     ]
    }
   ],
   "source": [
    "# predict the test set\n",
    "with torch.no_grad():\n",
    "    predicted = model(X_test)\n",
    "    predicted_cls = predicted.round()\n",
    "    acc = accuracy_score(y_test, predicted_cls)\n",
    "    print(f'Test Accuracy: {acc:.4f}')"
   ]
  },
  {
   "cell_type": "markdown",
   "metadata": {},
   "source": [
    "## Binary Classification Practice"
   ]
  },
  {
   "cell_type": "code",
   "execution_count": 9,
   "metadata": {},
   "outputs": [],
   "source": [
    "def rand_seed(seed: int):\n",
    "    torch.manual_seed(seed)\n",
    "    np.random.seed(seed)\n",
    "    torch.backends.cudnn.deterministic = True\n",
    "    torch.backends.cudnn.benchmark = False"
   ]
  },
  {
   "cell_type": "code",
   "execution_count": 10,
   "metadata": {},
   "outputs": [],
   "source": [
    "rand_seed(42)"
   ]
  },
  {
   "cell_type": "code",
   "execution_count": 11,
   "metadata": {},
   "outputs": [],
   "source": [
    "data = load_breast_cancer()\n",
    "X = data.data\n",
    "y = data.target"
   ]
  },
  {
   "cell_type": "code",
   "execution_count": 12,
   "metadata": {},
   "outputs": [
    {
     "data": {
      "image/png": "[encoded data removed]",
      "text/plain": [
       "<Figure size 640x480 with 1 Axes>"
      ]
     },
     "metadata": {},
     "output_type": "display_data"
    }
   ],
   "source": [
    "# box plot X\n",
    "import matplotlib.pyplot as plt\n",
    "plt.boxplot(X)\n",
    "plt.show()"
   ]
  },
  {
   "cell_type": "code",
   "execution_count": 13,
   "metadata": {},
   "outputs": [],
   "source": [
    "scaler = StandardScaler()\n",
    "X = scaler.fit_transform(X)"
   ]
  },
  {
   "cell_type": "code",
   "execution_count": 14,
   "metadata": {},
   "outputs": [
    {
     "data": {
      "image/png": "[encoded data removed]",
      "text/plain": [
       "<Figure size 640x480 with 1 Axes>"
      ]
     },
     "metadata": {},
     "output_type": "display_data"
    }
   ],
   "source": [
    "# box plot X\n",
    "import matplotlib.pyplot as plt\n",
    "plt.boxplot(X)\n",
    "plt.show()"
   ]
  },
  {
   "cell_type": "code",
   "execution_count": 15,
   "metadata": {},
   "outputs": [],
   "source": [
    "X_train, X_test, y_train, y_test = train_test_split(X, y, test_size=0.2, random_state=42)"
   ]
  },
  {
   "cell_type": "code",
   "execution_count": 16,
   "metadata": {},
   "outputs": [],
   "source": [
    "X_train = torch.FloatTensor(X_train)\n",
    "X_test = torch.FloatTensor(X_test)\n",
    "y_train = torch.LongTensor(y_train)\n",
    "y_test = torch.LongTensor(y_test)"
   ]
  },
  {
   "cell_type": "code",
   "execution_count": 17,
   "metadata": {},
   "outputs": [],
   "source": [
    "class LogisticRegression(nn.Module):\n",
    "    def __init__(self, input_size):\n",
    "        super(LogisticRegression, self).__init__()\n",
    "        self.rogistic = nn.Sequential(\n",
    "            # ----------------- Fill your answer -----------------\n",
    "            # ----------------- Fill your answer -----------------\n",
    "        )\n",
    "        \n",
    "    def forward(self, x):\n",
    "        # ----------------- Fill your answer -----------------\n",
    "        out = \n",
    "        # ----------------- Fill your answer -----------------\n",
    "        return out"
   ]
  },
  {
   "cell_type": "code",
   "execution_count": 18,
   "metadata": {},
   "outputs": [],
   "source": [
    "model = LogisticRegression(input_size=30)\n",
    "\n",
    "criterion = nn.BCELoss()\n",
    "optimizer = optim.SGD(model.parameters(), lr=0.01)"
   ]
  },
  {
   "cell_type": "code",
   "execution_count": 19,
   "metadata": {},
   "outputs": [
    {
     "name": "stdout",
     "output_type": "stream",
     "text": [
      "Epoch [10/100], Loss: 0.6438, Accuracy: 0.6813\n",
      "Epoch [20/100], Loss: 0.5139, Accuracy: 0.8286\n",
      "Epoch [30/100], Loss: 0.4357, Accuracy: 0.8769\n",
      "Epoch [40/100], Loss: 0.3848, Accuracy: 0.9055\n",
      "Epoch [50/100], Loss: 0.3489, Accuracy: 0.9187\n",
      "Epoch [60/100], Loss: 0.3219, Accuracy: 0.9231\n",
      "Epoch [70/100], Loss: 0.3007, Accuracy: 0.9275\n",
      "Epoch [80/100], Loss: 0.2835, Accuracy: 0.9319\n",
      "Epoch [90/100], Loss: 0.2691, Accuracy: 0.9319\n",
      "Epoch [100/100], Loss: 0.2570, Accuracy: 0.9341\n"
     ]
    }
   ],
   "source": [
    "num_epochs = 100\n",
    "for epoch in range(num_epochs):\n",
    "    optimizer.zero_grad()\n",
    "    outputs = model(X_train)\n",
    "    loss = criterion(outputs, y_train.unsqueeze(1).float())\n",
    "    loss.backward()\n",
    "    optimizer.step()\n",
    "    \n",
    "    if (epoch+1) % 10 == 0:\n",
    "        with torch.no_grad():\n",
    "            predicted = model(X_train)\n",
    "            predicted_cls = predicted.round()\n",
    "            acc = accuracy_score(y_train, predicted_cls)\n",
    "            print(f'Epoch [{epoch+1}/{num_epochs}], Loss: {loss.item():.4f}, Accuracy: {acc:.4f}')"
   ]
  },
  {
   "cell_type": "code",
   "execution_count": 20,
   "metadata": {},
   "outputs": [
    {
     "name": "stdout",
     "output_type": "stream",
     "text": [
      "Test Accuracy: 0.9561\n"
     ]
    }
   ],
   "source": [
    "with torch.no_grad():\n",
    "    predicted = model(X_test)\n",
    "    predicted_cls = predicted.round()\n",
    "    acc = accuracy_score(y_test, predicted_cls)\n",
    "    print(f'Test Accuracy: {acc:.4f}')"
   ]
  },
  {
   "cell_type": "markdown",
   "metadata": {},
   "source": [
    "# Softmax Regression\n",
    "소프트맥스 회귀는 다중 클래스 분류 문제에 사용되는 알고리즘.\n",
    "이 알고리즘은 입력 데이터를 각 클래스에 대한 확률로 변환하여 예측을 수행합니다.\n",
    "\n",
    "소프트맥스 회귀의 핵심 아이디어는 입력 데이터에 대한 가중치와 편향을 사용하여 각 클래스에 대한 점수를 계산하는 것.\n",
    "이 점수는 소프트맥스 함수를 통해 확률로 변환.\n",
    "\n",
    "소프트맥스 함수는 입력된 점수를 정규화하여 각 클래스에 대한 확률을 계산.\n",
    "이 함수는 지수 함수를 사용하여 점수를 양수로 만들고, 모든 클래스의 점수의 합으로 나누어 확률로 변환.\n",
    "\n",
    "소프트맥스 회귀의 간단한 예제. 3개의 클래스(고양이, 개, 말)를 분류하는 문제를 가정.\n",
    "\n",
    "이 예제에서는 입력 데이터 X와 가중치 W, 편향 b를 사용하여 각 클래스에 대한 점수를 계산.\n",
    "그런 다음 소프트맥스 함수를 사용하여 점수를 확률로 변환."
   ]
  },
  {
   "cell_type": "code",
   "execution_count": 22,
   "metadata": {},
   "outputs": [
    {
     "name": "stdout",
     "output_type": "stream",
     "text": [
      "[[0.14146367 0.28487285 0.57366348]\n",
      " [0.03280241 0.16247141 0.80472617]\n",
      " [0.00618829 0.07538875 0.91842297]]\n"
     ]
    }
   ],
   "source": [
    "import numpy as np\n",
    "\n",
    "# 입력 데이터\n",
    "X = np.array([[1, 2, 3],\n",
    "              [4, 5, 6],\n",
    "              [7, 8, 9]])\n",
    "\n",
    "# 가중치와 편향\n",
    "W = np.array([[0.1, 0.2, 0.3],\n",
    "              [0.4, 0.5, 0.6],\n",
    "              [0.7, 0.8, 0.9]])\n",
    "b = np.array([0.1, 0.2, 0.3])\n",
    "\n",
    "# 점수 계산\n",
    "scores = np.dot(X, W) + b\n",
    "\n",
    "# 소프트맥스 함수를 통한 확률 계산\n",
    "exp_scores = np.exp(scores)\n",
    "probs = exp_scores / np.sum(exp_scores, axis=1, keepdims=True)\n",
    "\n",
    "print(probs)"
   ]
  },
  {
   "cell_type": "code",
   "execution_count": 23,
   "metadata": {},
   "outputs": [],
   "source": [
    "batch_size=100\n",
    "if torch.cuda.is_available():\n",
    "    device = torch.device('cuda')\n",
    "else:\n",
    "    device = torch.device('cpu')\n",
    "learning_rate = 1e-1\n",
    "epochs = 15"
   ]
  },
  {
   "cell_type": "code",
   "execution_count": 24,
   "metadata": {},
   "outputs": [],
   "source": [
    "from torchvision import datasets, transforms\n",
    "\n",
    "train_dataset = datasets.MNIST(root='./data', train=True, transform=transforms.ToTensor(), download=True)\n",
    "test_dataset = datasets.MNIST(root='./data', train=False, transform=transforms.ToTensor())\n",
    "\n",
    "train_loader = torch.utils.data.DataLoader(dataset=train_dataset, batch_size=batch_size, shuffle=True)\n",
    "test_loader = torch.utils.data.DataLoader(dataset=test_dataset, batch_size=batch_size, shuffle=False)"
   ]
  },
  {
   "cell_type": "code",
   "execution_count": 25,
   "metadata": {},
   "outputs": [],
   "source": [
    "class SoftmaxRegression(nn.Module):\n",
    "    def __init__(self, input_dim, output_dim):\n",
    "        super(SoftmaxRegression, self).__init__()\n",
    "        self.linear = nn.Linear(input_dim, output_dim, bias=True)\n",
    "\n",
    "    def forward(self, x):\n",
    "        out = self.linear(x)\n",
    "        return out"
   ]
  },
  {
   "cell_type": "code",
   "execution_count": 26,
   "metadata": {},
   "outputs": [],
   "source": [
    "def train(model, optimizer, train_loader, criterion, device):\n",
    "    model.train()\n",
    "    avg_cost=0\n",
    "    for batch_idx, (data, target) in enumerate(train_loader):\n",
    "        # ----------------- Fill your answer -----------------\n",
    "        # ----------------- Fill your answer -----------------\n",
    "        avg_cost += loss / len(data)\n",
    "    print('Epoch:', '%04d' % (epoch), 'cost =', '{:.9f}'.format(avg_cost))"
   ]
  },
  {
   "cell_type": "code",
   "execution_count": 27,
   "metadata": {},
   "outputs": [],
   "source": [
    "\n",
    "def evaluate(model, test_loader, device):\n",
    "    model.eval()\n",
    "    correct = 0\n",
    "    with torch.no_grad():\n",
    "        for data, target in test_loader:\n",
    "            data, target = data.view(-1, 28 * 28).to(device), target.to(device)\n",
    "            output = model(data)\n",
    "            pred = output.argmax(dim=1, keepdim=True)\n",
    "            correct += pred.eq(target.view_as(pred)).sum().item()\n",
    "\n",
    "    accuracy = 100. * correct / len(test_loader.dataset)\n",
    "    return accuracy"
   ]
  },
  {
   "cell_type": "code",
   "execution_count": 28,
   "metadata": {},
   "outputs": [],
   "source": [
    "def predict(model, mnist_test, device):\n",
    "    \n",
    "    r = random.randint(0, len(mnist_test) - 1)\n",
    "    X_single_data = mnist_test.test_data[r:r + 1].view(-1, 28 * 28).float().to(device)\n",
    "    Y_single_data = mnist_test.test_labels[r:r + 1].to(device)\n",
    "\n",
    "    print('Label: ', Y_single_data.item())\n",
    "    single_prediction = model(X_single_data)\n",
    "    print('Prediction: ', torch.argmax(single_prediction, 1).item())\n",
    "\n",
    "    plt.imshow(mnist_test.test_data[r:r + 1].view(28, 28), cmap='Greys', interpolation='nearest')\n",
    "    plt.show()"
   ]
  },
  {
   "cell_type": "code",
   "execution_count": 29,
   "metadata": {},
   "outputs": [
    {
     "name": "stdout",
     "output_type": "stream",
     "text": [
      "Epoch: 0001 cost = 3.204918861\n",
      "Epoch [1/15], Test Accuracy: 90.41%\n",
      "Epoch: 0002 cost = 2.154778481\n",
      "Epoch [2/15], Test Accuracy: 91.19%\n",
      "Epoch: 0003 cost = 1.986838102\n",
      "Epoch [3/15], Test Accuracy: 91.62%\n",
      "Epoch: 0004 cost = 1.898522377\n",
      "Epoch [4/15], Test Accuracy: 91.70%\n",
      "Epoch: 0005 cost = 1.841276765\n",
      "Epoch [5/15], Test Accuracy: 91.72%\n",
      "Epoch: 0006 cost = 1.801764250\n",
      "Epoch [6/15], Test Accuracy: 91.99%\n",
      "Epoch: 0007 cost = 1.769300580\n",
      "Epoch [7/15], Test Accuracy: 92.02%\n",
      "Epoch: 0008 cost = 1.745447397\n",
      "Epoch [8/15], Test Accuracy: 92.10%\n",
      "Epoch: 0009 cost = 1.723941088\n",
      "Epoch [9/15], Test Accuracy: 92.15%\n",
      "Epoch: 0010 cost = 1.706655622\n",
      "Epoch [10/15], Test Accuracy: 92.30%\n",
      "Epoch: 0011 cost = 1.692227721\n",
      "Epoch [11/15], Test Accuracy: 92.31%\n",
      "Epoch: 0012 cost = 1.676990509\n",
      "Epoch [12/15], Test Accuracy: 92.21%\n",
      "Epoch: 0013 cost = 1.667406678\n",
      "Epoch [13/15], Test Accuracy: 92.27%\n",
      "Epoch: 0014 cost = 1.655733943\n",
      "Epoch [14/15], Test Accuracy: 92.23%\n",
      "Epoch: 0015 cost = 1.646138906\n",
      "Epoch [15/15], Test Accuracy: 92.35%\n"
     ]
    }
   ],
   "source": [
    "model = SoftmaxRegression(28*28, 10).to(device)\n",
    "optimizer = optim.SGD(model.parameters(), lr=learning_rate)\n",
    "criterion = nn.CrossEntropyLoss()\n",
    "\n",
    "for epoch in range(1, epochs + 1):\n",
    "    train(model, optimizer, train_loader, criterion, device)\n",
    "    test_accuracy = evaluate(model, test_loader, device)\n",
    "    print('Epoch [{}/{}], Test Accuracy: {:.2f}%'.format(epoch, epochs, test_accuracy))"
   ]
  },
  {
   "cell_type": "code",
   "execution_count": 30,
   "metadata": {},
   "outputs": [
    {
     "name": "stdout",
     "output_type": "stream",
     "text": [
      "Label:  1\n",
      "Prediction:  1\n"
     ]
    },
    {
     "name": "stderr",
     "output_type": "stream",
     "text": [
      "/opt/homebrew/anaconda3/envs/ossp1-2401/lib/python3.11/site-packages/torchvision/datasets/mnist.py:80: UserWarning: test_data has been renamed data\n",
      "  warnings.warn(\"test_data has been renamed data\")\n",
      "/opt/homebrew/anaconda3/envs/ossp1-2401/lib/python3.11/site-packages/torchvision/datasets/mnist.py:70: UserWarning: test_labels has been renamed targets\n",
      "  warnings.warn(\"test_labels has been renamed targets\")\n"
     ]
    },
    {
     "data": {
      "image/png": "[encoded data removed]",
      "text/plain": [
       "<Figure size 640x480 with 1 Axes>"
      ]
     },
     "metadata": {},
     "output_type": "display_data"
    }
   ],
   "source": [
    "predict(model, test_dataset, device)"
   ]
  },
  {
   "cell_type": "code",
   "execution_count": 31,
   "metadata": {},
   "outputs": [
    {
     "name": "stdout",
     "output_type": "stream",
     "text": [
      "Epoch [1/50], Loss: 0.5330\n",
      "Epoch [2/50], Loss: 0.4337\n",
      "Epoch [3/50], Loss: 0.4629\n",
      "Epoch [4/50], Loss: 0.4647\n",
      "Epoch [5/50], Loss: 0.4232\n",
      "Epoch [6/50], Loss: 0.3996\n",
      "Epoch [7/50], Loss: 0.3961\n",
      "Epoch [8/50], Loss: 0.3705\n",
      "Epoch [9/50], Loss: 0.5085\n",
      "Epoch [10/50], Loss: 0.4673\n",
      "Epoch [11/50], Loss: 0.4192\n",
      "Epoch [12/50], Loss: 0.3253\n",
      "Epoch [13/50], Loss: 0.4549\n",
      "Epoch [14/50], Loss: 0.4290\n",
      "Epoch [15/50], Loss: 0.3325\n",
      "Epoch [16/50], Loss: 0.4598\n",
      "Epoch [17/50], Loss: 0.5356\n",
      "Epoch [18/50], Loss: 0.4667\n",
      "Epoch [19/50], Loss: 0.3579\n",
      "Epoch [20/50], Loss: 0.3674\n",
      "Epoch [21/50], Loss: 0.3591\n",
      "Epoch [22/50], Loss: 0.3604\n",
      "Epoch [23/50], Loss: 0.3480\n",
      "Epoch [24/50], Loss: 0.2879\n",
      "Epoch [25/50], Loss: 0.3055\n",
      "Epoch [26/50], Loss: 0.4194\n",
      "Epoch [27/50], Loss: 0.3009\n",
      "Epoch [28/50], Loss: 0.4032\n",
      "Epoch [29/50], Loss: 0.3822\n",
      "Epoch [30/50], Loss: 0.2840\n",
      "Epoch [31/50], Loss: 0.3791\n",
      "Epoch [32/50], Loss: 0.4120\n",
      "Epoch [33/50], Loss: 0.4434\n",
      "Epoch [34/50], Loss: 0.5005\n",
      "Epoch [35/50], Loss: 0.2959\n",
      "Epoch [36/50], Loss: 0.3939\n",
      "Epoch [37/50], Loss: 0.4023\n",
      "Epoch [38/50], Loss: 0.3699\n",
      "Epoch [39/50], Loss: 0.3264\n",
      "Epoch [40/50], Loss: 0.4095\n",
      "Epoch [41/50], Loss: 0.3614\n",
      "Epoch [42/50], Loss: 0.4171\n",
      "Epoch [43/50], Loss: 0.2188\n",
      "Epoch [44/50], Loss: 0.2785\n",
      "Epoch [45/50], Loss: 0.3205\n",
      "Epoch [46/50], Loss: 0.2816\n",
      "Epoch [47/50], Loss: 0.3496\n",
      "Epoch [48/50], Loss: 0.3455\n",
      "Epoch [49/50], Loss: 0.3438\n",
      "Epoch [50/50], Loss: 0.4135\n",
      "Accuracy of the model on the 10000 test images: 84.23%\n"
     ]
    }
   ],
   "source": [
    "import torch\n",
    "import torch.nn as nn\n",
    "import torch.optim as optim\n",
    "from torchvision import datasets, transforms\n",
    "\n",
    "# 모델 정의\n",
    "class SoftmaxRegression(nn.Module):\n",
    "    def __init__(self, input_dim, output_dim):\n",
    "        super(SoftmaxRegression, self).__init__()\n",
    "        self.linear = nn.Linear(input_dim, output_dim)\n",
    "\n",
    "    def forward(self, x):\n",
    "        out = self.linear(x)\n",
    "        return out\n",
    "\n",
    "# 하이퍼파라미터 설정\n",
    "batch_size = 200\n",
    "num_epochs = 50\n",
    "learning_rate = 0.001\n",
    "input_dim = 28 * 28\n",
    "output_dim = 10\n",
    "\n",
    "# 데이터 로드 및 전처리\n",
    "transform = transforms.Compose([\n",
    "    transforms.ToTensor(),\n",
    "    transforms.Normalize((0.5,), (0.5,))\n",
    "])\n",
    "\n",
    "train_dataset = datasets.FashionMNIST(root='./data', train=True, download=True, transform=transform)\n",
    "test_dataset = datasets.FashionMNIST(root='./data', train=False, download=True, transform=transform)\n",
    "\n",
    "train_loader = torch.utils.data.DataLoader(train_dataset, batch_size=batch_size, shuffle=True)\n",
    "test_loader = torch.utils.data.DataLoader(test_dataset, batch_size=batch_size, shuffle=False)\n",
    "\n",
    "# 모델 초기화\n",
    "model = SoftmaxRegression(input_dim, output_dim)\n",
    "\n",
    "# 손실 함수와 옵티마이저 정의\n",
    "criterion = nn.CrossEntropyLoss()\n",
    "optimizer = optim.Adam(model.parameters(), lr=learning_rate)\n",
    "\n",
    "# 학습 루프\n",
    "for epoch in range(num_epochs):\n",
    "    for images, labels in train_loader:\n",
    "        \n",
    "        # 입력 데이터 크기 변경 (N, 1, 28, 28) -> (N, 28*28)\n",
    "        # ----------------- Fill your answer -----------------\n",
    "        \n",
    "        # ----------------- Fill your answer -----------------\n",
    "        # 순전파\n",
    "        # ----------------- Fill your answer -----------------\n",
    "        \n",
    "        # ----------------- Fill your answer -----------------\n",
    "        \n",
    "        # 역전파\n",
    "        # ----------------- Fill your answer -----------------\n",
    "        \n",
    "        # ----------------- Fill your answer -----------------\n",
    "    \n",
    "    print(f'Epoch [{epoch+1}/{num_epochs}], Loss: {loss.item():.4f}')\n",
    "\n",
    "# 테스트 데이터에 대한 모델 평가\n",
    "with torch.no_grad():\n",
    "    correct = 0\n",
    "    total = 0\n",
    "    for images, labels in test_loader:\n",
    "        images = images.view(images.size(0), -1)\n",
    "        outputs = model(images)\n",
    "        _, predicted = torch.max(outputs.data, 1)\n",
    "        total += labels.size(0)\n",
    "        correct += (predicted == labels).sum().item()\n",
    "\n",
    "    print(f'Accuracy of the model on the 10000 test images: {100 * correct / total}%')"
   ]
  },
  {
   "cell_type": "code",
   "execution_count": 32,
   "metadata": {},
   "outputs": [
    {
     "name": "stdout",
     "output_type": "stream",
     "text": [
      "Label:  4\n",
      "Prediction:  4\n"
     ]
    },
    {
     "data": {
      "image/png": "[encoded data removed]",
      "text/plain": [
       "<Figure size 640x480 with 1 Axes>"
      ]
     },
     "metadata": {},
     "output_type": "display_data"
    }
   ],
   "source": [
    "predict(model, test_dataset, device)"
   ]
  }
 ],
 "metadata": {
  "kernelspec": {
   "display_name": "ossp1-2401",
   "language": "python",
   "name": "python3"
  },
  "language_info": {
   "codemirror_mode": {
    "name": "ipython",
    "version": 3
   },
   "file_extension": ".py",
   "mimetype": "text/x-python",
   "name": "python",
   "nbconvert_exporter": "python",
   "pygments_lexer": "ipython3",
   "version": "3.11.7"
  }
 },
 "nbformat": 4,
 "nbformat_minor": 2
}
